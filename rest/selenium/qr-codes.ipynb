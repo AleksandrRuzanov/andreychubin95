{
 "cells": [
  {
   "cell_type": "code",
   "execution_count": null,
   "metadata": {},
   "outputs": [],
   "source": [
    "from selenium import webdriver\n",
    "import time\n",
    "from selenium.webdriver.common.keys import Keys\n",
    "\n",
    "import pandas as pd"
   ]
  },
  {
   "cell_type": "code",
   "execution_count": null,
   "metadata": {},
   "outputs": [],
   "source": [
    "bank = 'Среднерусский банк'"
   ]
  },
  {
   "cell_type": "markdown",
   "metadata": {},
   "source": [
    "#### Загружаем файл со всей необходимой информацией"
   ]
  },
  {
   "cell_type": "code",
   "execution_count": null,
   "metadata": {},
   "outputs": [],
   "source": [
    "df = pd.read_excel('URL.xlsx', sheet_name='Ссылки')"
   ]
  },
  {
   "cell_type": "markdown",
   "metadata": {},
   "source": [
    "#### Сайт даёт провести только 49 скачек в течении 6 часов, следовательно, надо проверить количество ссылок, для которых нужно сформировать QR-код"
   ]
  },
  {
   "cell_type": "code",
   "execution_count": null,
   "metadata": {},
   "outputs": [],
   "source": [
    "df[df['Территориальный банк']==bank].count()"
   ]
  },
  {
   "cell_type": "markdown",
   "metadata": {},
   "source": [
    "#### Продолжаем"
   ]
  },
  {
   "cell_type": "code",
   "execution_count": null,
   "metadata": {},
   "outputs": [],
   "source": [
    "df = df[df['Территориальный банк']==bank][['ВСП', 'ссылка_текст (после внедрения)']].copy()\n",
    "\n",
    "df['name'] = df['ВСП'].apply(lambda x: x.replace('/', '-')) #требовалось для последующего переименовывания файлов\n",
    "\n",
    "df.rename(columns={'ссылка_текст (после внедрения)':'urls'}, inplace=True)"
   ]
  },
  {
   "cell_type": "markdown",
   "metadata": {},
   "source": [
    "#### Запускаем драйвер"
   ]
  },
  {
   "cell_type": "code",
   "execution_count": null,
   "metadata": {},
   "outputs": [],
   "source": [
    "options = webdriver.ChromeOptions()\n",
    "options.add_argument(\"--kiosk\")\n",
    "driver = webdriver.Chrome('<путь до драйвера>/chromedriver', chrome_options=options)"
   ]
  },
  {
   "cell_type": "markdown",
   "metadata": {},
   "source": [
    "#### Сохраняем сессию, чтобы подключиться к ней позже"
   ]
  },
  {
   "cell_type": "code",
   "execution_count": null,
   "metadata": {},
   "outputs": [],
   "source": [
    "url = driver.command_executor._url\n",
    "session_id = driver.session_id"
   ]
  },
  {
   "cell_type": "markdown",
   "metadata": {},
   "source": [
    "#### Создаём dummy-подключение и закрываем его. Это позволит не закрывать браузер с основным подкючением, что даёт возможность провести все операции, которые не удалось или было слишком наладно оптимизировать (в моём случае это была загрузка логотипа (невозможно автоматизировать на MacOS) и выбор стилей (бот иногда выводил ошибку, если сайт не успевал пролистываться до этого меню, для стабильности я принял решение сделать это один раз вручную))"
   ]
  },
  {
   "cell_type": "code",
   "execution_count": null,
   "metadata": {},
   "outputs": [],
   "source": [
    "driver = webdriver.Remote(command_executor=url,desired_capabilities={})\n",
    "driver.close()\n",
    "driver.session_id = session_id"
   ]
  },
  {
   "cell_type": "markdown",
   "metadata": {},
   "source": [
    "#### Снова подключаемся к основному драйверу"
   ]
  },
  {
   "cell_type": "code",
   "execution_count": null,
   "metadata": {},
   "outputs": [],
   "source": [
    "driver.get(\"https://www.qrcode-monkey.com\")"
   ]
  },
  {
   "cell_type": "markdown",
   "metadata": {},
   "source": [
    "#### Находим все требуемые для взаимодействия элементы на сайте"
   ]
  },
  {
   "cell_type": "code",
   "execution_count": null,
   "metadata": {},
   "outputs": [],
   "source": [
    "main_button = driver.find_element_by_link_text(\"URL\")\n",
    "menu_buttons = driver.find_elements_by_class_name(\"icon\")\n",
    "buttons = driver.find_elements_by_tag_name(\"button\")"
   ]
  },
  {
   "cell_type": "markdown",
   "metadata": {},
   "source": [
    "#### Осуществляем следующие манипуляции: \n",
    "##### 1. Находим поле для заполнения URL\n",
    "##### 1.1. Очищаем его от дефолтного значения\n",
    "##### 1.2. Добаляем требуемый URL\n",
    "##### 2. Ждём одну секунду\n",
    "##### 2.1. Нажимаем на кнопку \"сформировать QR-код\"\n",
    "##### 2.2. Ждём 4 секунды, чтобы код успел сформироваться\n",
    "##### 2.3. Нажимаем на кнопку \"загрузить QR-код\"\n",
    "##### 2.4. Ждём 15 секунд, так как скачка начинается не сразу\n",
    "##### 3. Закрываем рекламный баннер\n",
    "##### 3.1 Ждём одну секунду\n",
    "##### 4. Возвращаемся к началу цикла"
   ]
  },
  {
   "cell_type": "code",
   "execution_count": null,
   "metadata": {},
   "outputs": [],
   "source": [
    "for sber_url in df.urls[:4]:\n",
    "\n",
    "    field1 = driver.find_element_by_id('qrcodeUrl')\n",
    "    field1.click()\n",
    "    field1.clear()\n",
    "    field1.send_keys(sber_url)\n",
    "\n",
    "    time.sleep(1)\n",
    "\n",
    "    buttons[27].click() \n",
    "\n",
    "    time.sleep(4)\n",
    "\n",
    "    buttons[28].click()\n",
    "\n",
    "    time.sleep(15)\n",
    "\n",
    "    driver.find_elements_by_xpath(\"//span[@class='fa fa-times']\")[0].click()\n",
    "    \n",
    "    time.sleep(1)"
   ]
  },
  {
   "cell_type": "code",
   "execution_count": null,
   "metadata": {},
   "outputs": [],
   "source": [
    "driver.close()"
   ]
  }
 ],
 "metadata": {
  "kernelspec": {
   "display_name": "Python 3",
   "language": "python",
   "name": "python3"
  },
  "language_info": {
   "codemirror_mode": {
    "name": "ipython",
    "version": 3
   },
   "file_extension": ".py",
   "mimetype": "text/x-python",
   "name": "python",
   "nbconvert_exporter": "python",
   "pygments_lexer": "ipython3",
   "version": "3.7.9"
  }
 },
 "nbformat": 4,
 "nbformat_minor": 4
}
